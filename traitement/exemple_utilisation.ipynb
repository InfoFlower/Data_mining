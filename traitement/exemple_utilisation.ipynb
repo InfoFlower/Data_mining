{
 "cells": [
  {
   "cell_type": "markdown",
   "metadata": {},
   "source": [
    "# IMPORT"
   ]
  },
  {
   "cell_type": "markdown",
   "metadata": {},
   "source": [
    "Import librairies"
   ]
  },
  {
   "cell_type": "code",
   "execution_count": 1,
   "metadata": {},
   "outputs": [],
   "source": [
    "import pandas as pd\n",
    "import utils as ut\n",
    "import processing as pc"
   ]
  },
  {
   "cell_type": "markdown",
   "metadata": {},
   "source": [
    "Import dataset + changement des noms colonnes"
   ]
  },
  {
   "cell_type": "code",
   "execution_count": 6,
   "metadata": {},
   "outputs": [],
   "source": [
    "df=pd.read_csv('C:/Users/lenovo/Desktop/Cours/Data_mining/sujet_exam/données.csv',delimiter=';')\n",
    "df_table=pd.read_excel('C:/Users/lenovo/Desktop/Cours/Data_mining/sujet_exam/données_table.xls')\n",
    "df.columns=[i for i in df_table['Intitulé produit']]"
   ]
  },
  {
   "cell_type": "markdown",
   "metadata": {},
   "source": [
    "# Segmentation data"
   ]
  },
  {
   "cell_type": "code",
   "execution_count": 7,
   "metadata": {},
   "outputs": [
    {
     "name": "stderr",
     "output_type": "stream",
     "text": [
      "C:\\Users\\lenovo\\AppData\\Local\\Temp\\ipykernel_16804\\3282644245.py:4: UserWarning: Boolean Series key will be reindexed to match DataFrame index.\n",
      "  df_NR=df[df['Sexe_Leader_foyer']!='M'][df['Sexe_Leader_foyer']!='F'].drop('Sexe_Leader_foyer',axis=1)\n"
     ]
    }
   ],
   "source": [
    "df=df.drop('Identifiant',axis=1)\n",
    "df_M=df[df['Sexe_Leader_foyer']=='M'].drop('Sexe_Leader_foyer',axis=1)\n",
    "df_F=df[df['Sexe_Leader_foyer']=='F'].drop('Sexe_Leader_foyer',axis=1)\n",
    "df_NR=df[df['Sexe_Leader_foyer']!='M'][df['Sexe_Leader_foyer']!='F'].drop('Sexe_Leader_foyer',axis=1)\n",
    "df=df.drop('Sexe_Leader_foyer',axis=1)"
   ]
  },
  {
   "cell_type": "markdown",
   "metadata": {},
   "source": [
    "# Processing automatique :"
   ]
  },
  {
   "cell_type": "code",
   "execution_count": 11,
   "metadata": {},
   "outputs": [
    {
     "name": "stdout",
     "output_type": "stream",
     "text": [
      "0 1\n",
      "Général\n"
     ]
    },
    {
     "name": "stderr",
     "output_type": "stream",
     "text": [
      "c:\\Users\\lenovo\\Desktop\\Cours\\Data_mining\\traitement\\utils.py:14: FutureWarning: ChainedAssignmentError: behaviour will change in pandas 3.0!\n",
      "You are setting values through chained assignment. Currently this works in certain cases, but when using Copy-on-Write (which will become the default behaviour in pandas 3.0) this will never work to update the original DataFrame or Series, because the intermediate object on which we are setting values will behave as a copy.\n",
      "A typical example is when you are setting values in a column of a DataFrame, like:\n",
      "\n",
      "df[\"col\"][row_indexer] = value\n",
      "\n",
      "Use `df.loc[row_indexer, \"col\"] = values` instead, to perform the assignment in a single step and ensure this keeps updating the original `df`.\n",
      "\n",
      "See the caveats in the documentation: https://pandas.pydata.org/pandas-docs/stable/user_guide/indexing.html#returning-a-view-versus-a-copy\n",
      "\n",
      "  df_sortie[i][z]=count\n"
     ]
    },
    {
     "name": "stdout",
     "output_type": "stream",
     "text": [
      "0 2\n",
      "0 3\n",
      "0 4\n",
      "0 5\n",
      "1 1\n",
      "Hommes\n"
     ]
    },
    {
     "name": "stderr",
     "output_type": "stream",
     "text": [
      "c:\\Users\\lenovo\\Desktop\\Cours\\Data_mining\\traitement\\utils.py:14: FutureWarning: ChainedAssignmentError: behaviour will change in pandas 3.0!\n",
      "You are setting values through chained assignment. Currently this works in certain cases, but when using Copy-on-Write (which will become the default behaviour in pandas 3.0) this will never work to update the original DataFrame or Series, because the intermediate object on which we are setting values will behave as a copy.\n",
      "A typical example is when you are setting values in a column of a DataFrame, like:\n",
      "\n",
      "df[\"col\"][row_indexer] = value\n",
      "\n",
      "Use `df.loc[row_indexer, \"col\"] = values` instead, to perform the assignment in a single step and ensure this keeps updating the original `df`.\n",
      "\n",
      "See the caveats in the documentation: https://pandas.pydata.org/pandas-docs/stable/user_guide/indexing.html#returning-a-view-versus-a-copy\n",
      "\n",
      "  df_sortie[i][z]=count\n"
     ]
    },
    {
     "name": "stdout",
     "output_type": "stream",
     "text": [
      "1 2\n",
      "1 3\n",
      "1 4\n",
      "1 5\n",
      "2 1\n",
      "Femmes\n"
     ]
    },
    {
     "name": "stderr",
     "output_type": "stream",
     "text": [
      "c:\\Users\\lenovo\\Desktop\\Cours\\Data_mining\\traitement\\utils.py:14: FutureWarning: ChainedAssignmentError: behaviour will change in pandas 3.0!\n",
      "You are setting values through chained assignment. Currently this works in certain cases, but when using Copy-on-Write (which will become the default behaviour in pandas 3.0) this will never work to update the original DataFrame or Series, because the intermediate object on which we are setting values will behave as a copy.\n",
      "A typical example is when you are setting values in a column of a DataFrame, like:\n",
      "\n",
      "df[\"col\"][row_indexer] = value\n",
      "\n",
      "Use `df.loc[row_indexer, \"col\"] = values` instead, to perform the assignment in a single step and ensure this keeps updating the original `df`.\n",
      "\n",
      "See the caveats in the documentation: https://pandas.pydata.org/pandas-docs/stable/user_guide/indexing.html#returning-a-view-versus-a-copy\n",
      "\n",
      "  df_sortie[i][z]=count\n"
     ]
    },
    {
     "name": "stdout",
     "output_type": "stream",
     "text": [
      "2 2\n",
      "2 3\n",
      "2 4\n",
      "2 5\n",
      "3 1\n",
      "NR\n"
     ]
    },
    {
     "name": "stderr",
     "output_type": "stream",
     "text": [
      "c:\\Users\\lenovo\\Desktop\\Cours\\Data_mining\\traitement\\utils.py:14: FutureWarning: ChainedAssignmentError: behaviour will change in pandas 3.0!\n",
      "You are setting values through chained assignment. Currently this works in certain cases, but when using Copy-on-Write (which will become the default behaviour in pandas 3.0) this will never work to update the original DataFrame or Series, because the intermediate object on which we are setting values will behave as a copy.\n",
      "A typical example is when you are setting values in a column of a DataFrame, like:\n",
      "\n",
      "df[\"col\"][row_indexer] = value\n",
      "\n",
      "Use `df.loc[row_indexer, \"col\"] = values` instead, to perform the assignment in a single step and ensure this keeps updating the original `df`.\n",
      "\n",
      "See the caveats in the documentation: https://pandas.pydata.org/pandas-docs/stable/user_guide/indexing.html#returning-a-view-versus-a-copy\n",
      "\n",
      "  df_sortie[i][z]=count\n"
     ]
    },
    {
     "name": "stdout",
     "output_type": "stream",
     "text": [
      "3 2\n",
      "3 3\n",
      "3 4\n",
      "3 5\n",
      "4 1\n",
      "Sans NR\n"
     ]
    },
    {
     "name": "stderr",
     "output_type": "stream",
     "text": [
      "c:\\Users\\lenovo\\Desktop\\Cours\\Data_mining\\traitement\\utils.py:14: FutureWarning: ChainedAssignmentError: behaviour will change in pandas 3.0!\n",
      "You are setting values through chained assignment. Currently this works in certain cases, but when using Copy-on-Write (which will become the default behaviour in pandas 3.0) this will never work to update the original DataFrame or Series, because the intermediate object on which we are setting values will behave as a copy.\n",
      "A typical example is when you are setting values in a column of a DataFrame, like:\n",
      "\n",
      "df[\"col\"][row_indexer] = value\n",
      "\n",
      "Use `df.loc[row_indexer, \"col\"] = values` instead, to perform the assignment in a single step and ensure this keeps updating the original `df`.\n",
      "\n",
      "See the caveats in the documentation: https://pandas.pydata.org/pandas-docs/stable/user_guide/indexing.html#returning-a-view-versus-a-copy\n",
      "\n",
      "  df_sortie[i][z]=count\n"
     ]
    },
    {
     "name": "stdout",
     "output_type": "stream",
     "text": [
      "4 2\n",
      "4 3\n",
      "4 4\n",
      "4 5\n",
      "########################################\n",
      "############### Général ###############\n",
      "\n",
      "\n",
      "######## Pires ########\n",
      "\n",
      "\n",
      "                      Produit 1                               Produit 2  \\\n",
      "591  Assurance Prévoyance décès                             Obligations   \n",
      "516                 Obligations              Assurance Prévoyance décès   \n",
      "45        Détention carte jeune                             Obligations   \n",
      "37        Détention carte jeune  Abonnement offre de service à domicile   \n",
      "495                 Obligations                   Détention carte jeune   \n",
      "\n",
      "     Support  Confiance  confiance_attendue  Lift  \n",
      "591      207      0.019            0.090761   0.2  \n",
      "516      207      0.031            0.149950   0.2  \n",
      "45       209      0.026            0.090761   0.3  \n",
      "37        42      0.005            0.016172   0.3  \n",
      "495      209      0.032            0.110670   0.3  \n",
      "\n",
      "######## Meilleurs ########\n",
      "\n",
      "\n",
      "                                      Produit 1  \\\n",
      "567                          Epargnes Bancaires   \n",
      "216                      Contrat Assurance GAV    \n",
      "621  Assurance Prévoyance dépendance/invalidité   \n",
      "297      Abonnement offre de service à domicile   \n",
      "162                            Détention cartes   \n",
      "\n",
      "                                      Produit 2  Support  Confiance  \\\n",
      "567                          Epargnes Bancaires     5090        1.0   \n",
      "216                      Contrat Assurance GAV      4826        1.0   \n",
      "621  Assurance Prévoyance dépendance/invalidité     1631        1.0   \n",
      "297      Abonnement offre de service à domicile     1173        1.0   \n",
      "162                            Détention cartes     1154        1.0   \n",
      "\n",
      "     confiance_attendue  Lift  \n",
      "567            0.070177  14.2  \n",
      "216            0.066537  15.0  \n",
      "621            0.022487  44.5  \n",
      "297            0.016172  61.8  \n",
      "162            0.015910  62.9  \n",
      "\n",
      "########################################\n",
      "############### Hommes ###############\n",
      "\n",
      "\n",
      "######## Pires ########\n",
      "\n",
      "\n",
      "                      Produit 1                               Produit 2  \\\n",
      "591  Assurance Prévoyance décès                             Obligations   \n",
      "516                 Obligations              Assurance Prévoyance décès   \n",
      "500                 Obligations                        Détention cartes   \n",
      "37        Détention carte jeune  Abonnement offre de service à domicile   \n",
      "427          Contrat Habitation  Abonnement offre de service à domicile   \n",
      "\n",
      "     Support  Confiance  confiance_attendue  Lift  \n",
      "591      130      0.020            0.082373   0.2  \n",
      "516      130      0.037            0.151063   0.2  \n",
      "500       22      0.006            0.018947   0.3  \n",
      "37        16      0.003            0.010853   0.3  \n",
      "427       95      0.003            0.010853   0.3  \n",
      "\n",
      "######## Meilleurs ########\n",
      "\n",
      "\n",
      "                                      Produit 1  \\\n",
      "216                      Contrat Assurance GAV    \n",
      "567                          Epargnes Bancaires   \n",
      "621  Assurance Prévoyance dépendance/invalidité   \n",
      "162                            Détention cartes   \n",
      "297      Abonnement offre de service à domicile   \n",
      "\n",
      "                                      Produit 2  Support  Confiance  \\\n",
      "216                      Contrat Assurance GAV      3285        1.0   \n",
      "567                          Epargnes Bancaires     2905        1.0   \n",
      "621  Assurance Prévoyance dépendance/invalidité      861        1.0   \n",
      "162                            Détention cartes      817        1.0   \n",
      "297      Abonnement offre de service à domicile      468        1.0   \n",
      "\n",
      "     confiance_attendue  Lift  \n",
      "216            0.076181  13.1  \n",
      "567            0.067369  14.8  \n",
      "621            0.019967  50.1  \n",
      "162            0.018947  52.8  \n",
      "297            0.010853  92.1  \n",
      "\n",
      "########################################\n",
      "############### Femmes ###############\n",
      "\n",
      "\n",
      "######## Pires ########\n",
      "\n",
      "\n",
      "                      Produit 1              Produit 2  Support  Confiance  \\\n",
      "47        Détention carte jeune     Epargnes Bancaires       52      0.016   \n",
      "45        Détention carte jeune            Obligations       70      0.021   \n",
      "591  Assurance Prévoyance décès            Obligations       74      0.017   \n",
      "547          Epargnes Bancaires  Détention carte jeune       52      0.025   \n",
      "495                 Obligations  Détention carte jeune       70      0.024   \n",
      "\n",
      "     confiance_attendue  Lift  \n",
      "47             0.073915   0.2  \n",
      "45             0.103139   0.2  \n",
      "591            0.103139   0.2  \n",
      "547            0.116934   0.2  \n",
      "495            0.116934   0.2  \n",
      "\n",
      "######## Meilleurs ########\n",
      "\n",
      "\n",
      "                                      Produit 1  \\\n",
      "567                          Epargnes Bancaires   \n",
      "216                      Contrat Assurance GAV    \n",
      "621  Assurance Prévoyance dépendance/invalidité   \n",
      "297      Abonnement offre de service à domicile   \n",
      "162                            Détention cartes   \n",
      "\n",
      "                                      Produit 2  Support  Confiance  \\\n",
      "567                          Epargnes Bancaires     2079        1.0   \n",
      "216                      Contrat Assurance GAV      1473        1.0   \n",
      "621  Assurance Prévoyance dépendance/invalidité      752        1.0   \n",
      "297      Abonnement offre de service à domicile      693        1.0   \n",
      "162                            Détention cartes      330        1.0   \n",
      "\n",
      "     confiance_attendue  Lift  \n",
      "567            0.073915  13.5  \n",
      "216            0.052370  19.1  \n",
      "621            0.026736  37.4  \n",
      "297            0.024638  40.6  \n",
      "162            0.011732  85.2  \n",
      "\n",
      "########################################\n",
      "############### NR ###############\n",
      "\n",
      "\n",
      "######## Pires ########\n",
      "\n",
      "\n",
      "                                  Produit 1  \\\n",
      "37                    Détention carte jeune   \n",
      "583              Assurance Prévoyance décès   \n",
      "557                      Epargnes Bancaires   \n",
      "500                             Obligations   \n",
      "307  Abonnement offre de service à domicile   \n",
      "\n",
      "                                  Produit 2  Support  Confiance  \\\n",
      "37   Abonnement offre de service à domicile        0        0.0   \n",
      "583  Abonnement offre de service à domicile        0        0.0   \n",
      "557  Abonnement offre de service à domicile        0        0.0   \n",
      "500                        Détention cartes        0        0.0   \n",
      "307                      Epargnes Bancaires        0        0.0   \n",
      "\n",
      "     confiance_attendue  Lift  \n",
      "37             0.009353   0.0  \n",
      "583            0.009353   0.0  \n",
      "557            0.009353   0.0  \n",
      "500            0.005456   0.0  \n",
      "307            0.082619   0.0  \n",
      "\n",
      "######## Meilleurs ########\n",
      "\n",
      "\n",
      "                                      Produit 1  \\\n",
      "606  Assurance Prévoyance dépendance/invalidité   \n",
      "216                      Contrat Assurance GAV    \n",
      "621  Assurance Prévoyance dépendance/invalidité   \n",
      "297      Abonnement offre de service à domicile   \n",
      "162                            Détention cartes   \n",
      "\n",
      "                                      Produit 2  Support  Confiance  \\\n",
      "606                      Contrat Assurance GAV        13      0.722   \n",
      "216                      Contrat Assurance GAV        68      1.000   \n",
      "621  Assurance Prévoyance dépendance/invalidité       18      1.000   \n",
      "297      Abonnement offre de service à domicile       12      1.000   \n",
      "162                            Détention cartes        7      1.000   \n",
      "\n",
      "     confiance_attendue   Lift  \n",
      "606            0.053001   13.6  \n",
      "216            0.053001   18.9  \n",
      "621            0.014030   71.3  \n",
      "297            0.009353  106.9  \n",
      "162            0.005456  183.3  \n",
      "\n",
      "########################################\n",
      "############### Sans NR ###############\n",
      "\n",
      "\n",
      "######## Pires ########\n",
      "\n",
      "\n",
      "                      Produit 1                               Produit 2  \\\n",
      "591  Assurance Prévoyance décès                             Obligations   \n",
      "516                 Obligations              Assurance Prévoyance décès   \n",
      "45        Détention carte jeune                             Obligations   \n",
      "37        Détention carte jeune  Abonnement offre de service à domicile   \n",
      "495                 Obligations                   Détention carte jeune   \n",
      "\n",
      "     Support  Confiance  confiance_attendue  Lift  \n",
      "591      207      0.019            0.090761   0.2  \n",
      "516      207      0.031            0.149950   0.2  \n",
      "45       209      0.026            0.090761   0.3  \n",
      "37        42      0.005            0.016172   0.3  \n",
      "495      209      0.032            0.110670   0.3  \n",
      "\n",
      "######## Meilleurs ########\n",
      "\n",
      "\n",
      "                                      Produit 1  \\\n",
      "567                          Epargnes Bancaires   \n",
      "216                      Contrat Assurance GAV    \n",
      "621  Assurance Prévoyance dépendance/invalidité   \n",
      "297      Abonnement offre de service à domicile   \n",
      "162                            Détention cartes   \n",
      "\n",
      "                                      Produit 2  Support  Confiance  \\\n",
      "567                          Epargnes Bancaires     5090        1.0   \n",
      "216                      Contrat Assurance GAV      4826        1.0   \n",
      "621  Assurance Prévoyance dépendance/invalidité     1631        1.0   \n",
      "297      Abonnement offre de service à domicile     1173        1.0   \n",
      "162                            Détention cartes     1154        1.0   \n",
      "\n",
      "     confiance_attendue  Lift  \n",
      "567            0.070177  14.2  \n",
      "216            0.066537  15.0  \n",
      "621            0.022487  44.5  \n",
      "297            0.016172  61.8  \n",
      "162            0.015910  62.9  \n",
      "\n",
      "\n"
     ]
    }
   ],
   "source": [
    "import importlib\n",
    "importlib.reload(pc)\n",
    "# Création liste des subsets\n",
    "subsets=[df,df_M,df_F,df_NR,df.dropna()]\n",
    "# Nom des groupes segmentés\n",
    "name_subset=['Général','Hommes','Femmes','NR','Sans NR']\n",
    "\n",
    "#Processing\n",
    "#Variables :\n",
    "    # 1 : Liste des datasets\n",
    "    # 2 : Liste des noms des datasets\n",
    "    # 3 : False/True si les datasets ont déjà été lus ou non\n",
    "results=pc.process(subsets,name_subset,readed=True)"
   ]
  },
  {
   "cell_type": "code",
   "execution_count": 13,
   "metadata": {},
   "outputs": [],
   "source": [
    "with open('synthèse.txt','w',encoding='utf_8') as f:\n",
    "    f.write(results)"
   ]
  }
 ],
 "metadata": {
  "kernelspec": {
   "display_name": "Python 3",
   "language": "python",
   "name": "python3"
  },
  "language_info": {
   "codemirror_mode": {
    "name": "ipython",
    "version": 3
   },
   "file_extension": ".py",
   "mimetype": "text/x-python",
   "name": "python",
   "nbconvert_exporter": "python",
   "pygments_lexer": "ipython3",
   "version": "3.11.9"
  }
 },
 "nbformat": 4,
 "nbformat_minor": 2
}
